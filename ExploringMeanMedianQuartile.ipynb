{
  "cells": [
    {
      "cell_type": "markdown",
      "metadata": {
        "id": "4MPZ8TUEss23"
      },
      "source": [
        "###6_Exploring Mean, Median, Quartile\n"
      ]
    },
    {
      "cell_type": "markdown",
      "metadata": {
        "id": "fjRzEkJgvD9j"
      },
      "source": [
        "### Import Library"
      ]
    },
    {
      "cell_type": "code",
      "execution_count": 1,
      "metadata": {
        "id": "jra1vn02kLzq"
      },
      "outputs": [],
      "source": [
        "import pandas as pd #useful for loading the dataset"
      ]
    },
    {
      "cell_type": "markdown",
      "metadata": {
        "id": "g2k8VuX3vRqG"
      },
      "source": [
        "### Load Dataset"
      ]
    },
    {
      "cell_type": "code",
      "execution_count": 2,
      "metadata": {
        "id": "64PbCQu2oHmZ"
      },
      "outputs": [
        {
          "data": {
            "text/html": [
              "<div>\n",
              "<style scoped>\n",
              "    .dataframe tbody tr th:only-of-type {\n",
              "        vertical-align: middle;\n",
              "    }\n",
              "\n",
              "    .dataframe tbody tr th {\n",
              "        vertical-align: top;\n",
              "    }\n",
              "\n",
              "    .dataframe thead th {\n",
              "        text-align: right;\n",
              "    }\n",
              "</style>\n",
              "<table border=\"1\" class=\"dataframe\">\n",
              "  <thead>\n",
              "    <tr style=\"text-align: right;\">\n",
              "      <th></th>\n",
              "      <th>land</th>\n",
              "      <th>price</th>\n",
              "    </tr>\n",
              "  </thead>\n",
              "  <tbody>\n",
              "    <tr>\n",
              "      <th>0</th>\n",
              "      <td>1000</td>\n",
              "      <td>2245.0</td>\n",
              "    </tr>\n",
              "    <tr>\n",
              "      <th>1</th>\n",
              "      <td>2000</td>\n",
              "      <td>4575.0</td>\n",
              "    </tr>\n",
              "    <tr>\n",
              "      <th>2</th>\n",
              "      <td>3000</td>\n",
              "      <td>6874.0</td>\n",
              "    </tr>\n",
              "    <tr>\n",
              "      <th>3</th>\n",
              "      <td>4000</td>\n",
              "      <td>8878.0</td>\n",
              "    </tr>\n",
              "    <tr>\n",
              "      <th>4</th>\n",
              "      <td>5000</td>\n",
              "      <td>NaN</td>\n",
              "    </tr>\n",
              "    <tr>\n",
              "      <th>5</th>\n",
              "      <td>6000</td>\n",
              "      <td>12457.0</td>\n",
              "    </tr>\n",
              "    <tr>\n",
              "      <th>6</th>\n",
              "      <td>7000</td>\n",
              "      <td>14785.0</td>\n",
              "    </tr>\n",
              "    <tr>\n",
              "      <th>7</th>\n",
              "      <td>8000</td>\n",
              "      <td>16785.0</td>\n",
              "    </tr>\n",
              "    <tr>\n",
              "      <th>8</th>\n",
              "      <td>10000</td>\n",
              "      <td>2078900.0</td>\n",
              "    </tr>\n",
              "  </tbody>\n",
              "</table>\n",
              "</div>"
            ],
            "text/plain": [
              "    land      price\n",
              "0   1000     2245.0\n",
              "1   2000     4575.0\n",
              "2   3000     6874.0\n",
              "3   4000     8878.0\n",
              "4   5000        NaN\n",
              "5   6000    12457.0\n",
              "6   7000    14785.0\n",
              "7   8000    16785.0\n",
              "8  10000  2078900.0"
            ]
          },
          "execution_count": 2,
          "metadata": {},
          "output_type": "execute_result"
        }
      ],
      "source": [
        "dataset = pd.read_csv('Dataset.csv')\n",
        "datasetwithNaN = dataset\n",
        "dataset"
      ]
    },
    {
      "cell_type": "markdown",
      "metadata": {
        "id": "Fua0gL0AvZNo"
      },
      "source": [
        "### Load Summarize"
      ]
    },
    {
      "cell_type": "code",
      "execution_count": 3,
      "metadata": {
        "id": "Z-Z5RLwavYBN"
      },
      "outputs": [
        {
          "name": "stdout",
          "output_type": "stream",
          "text": [
            "(9, 2)\n",
            "               land         price\n",
            "count      9.000000  8.000000e+00\n",
            "mean    5111.111111  2.681874e+05\n",
            "std     2934.469477  7.316554e+05\n",
            "min     1000.000000  2.245000e+03\n",
            "25%     3000.000000  6.299250e+03\n",
            "50%     5000.000000  1.066750e+04\n",
            "75%     7000.000000  1.528500e+04\n",
            "max    10000.000000  2.078900e+06\n"
          ]
        }
      ],
      "source": [
        "print(dataset.shape)\n",
        "print(dataset.describe())"
      ]
    },
    {
      "cell_type": "markdown",
      "metadata": {
        "id": "fwVuwQGWtmj9"
      },
      "source": [
        "##Checking for NaN Values"
      ]
    },
    {
      "cell_type": "code",
      "execution_count": 4,
      "metadata": {
        "id": "y-MnCemFtqLq"
      },
      "outputs": [
        {
          "data": {
            "text/plain": [
              "land     False\n",
              "price     True\n",
              "dtype: bool"
            ]
          },
          "execution_count": 4,
          "metadata": {},
          "output_type": "execute_result"
        }
      ],
      "source": [
        "dataset.isna().any()"
      ]
    },
    {
      "cell_type": "markdown",
      "metadata": {
        "id": "e6RDnwGivIOj"
      },
      "source": [
        "### Filling NaN values with the Mean  \n",
        "###Problem - New value becomes high coz of outlier (Large value scale)"
      ]
    },
    {
      "cell_type": "code",
      "execution_count": 5,
      "metadata": {
        "id": "iTpv7eM8upjb"
      },
      "outputs": [
        {
          "data": {
            "text/plain": [
              "0       2245.000\n",
              "1       4575.000\n",
              "2       6874.000\n",
              "3       8878.000\n",
              "4     268187.375\n",
              "5      12457.000\n",
              "6      14785.000\n",
              "7      16785.000\n",
              "8    2078900.000\n",
              "Name: price, dtype: float64"
            ]
          },
          "execution_count": 5,
          "metadata": {},
          "output_type": "execute_result"
        }
      ],
      "source": [
        "MeandatasetNotNan = dataset.price.fillna(dataset.price.mean())\n",
        "MeandatasetNotNan"
      ]
    },
    {
      "cell_type": "markdown",
      "metadata": {
        "id": "WW0X2p-zvWbX"
      },
      "source": [
        "### Solution - Filling NaN value with Median"
      ]
    },
    {
      "cell_type": "code",
      "execution_count": 6,
      "metadata": {
        "id": "Ria4u01rvbzu"
      },
      "outputs": [
        {
          "data": {
            "text/plain": [
              "0       2245.0\n",
              "1       4575.0\n",
              "2       6874.0\n",
              "3       8878.0\n",
              "4      10667.5\n",
              "5      12457.0\n",
              "6      14785.0\n",
              "7      16785.0\n",
              "8    2078900.0\n",
              "Name: price, dtype: float64"
            ]
          },
          "execution_count": 6,
          "metadata": {},
          "output_type": "execute_result"
        }
      ],
      "source": [
        "MediandatasetNotNan = dataset.price.fillna(dataset.price.median())\n",
        "MediandatasetNotNan"
      ]
    },
    {
      "cell_type": "markdown",
      "metadata": {
        "id": "9h7MM0r7vws9"
      },
      "source": [
        "###Identifying and removing the outlier - Huge difference in value \n"
      ]
    },
    {
      "cell_type": "code",
      "execution_count": 7,
      "metadata": {
        "id": "5LFKSwdj1q7d"
      },
      "outputs": [
        {
          "data": {
            "text/html": [
              "<div>\n",
              "<style scoped>\n",
              "    .dataframe tbody tr th:only-of-type {\n",
              "        vertical-align: middle;\n",
              "    }\n",
              "\n",
              "    .dataframe tbody tr th {\n",
              "        vertical-align: top;\n",
              "    }\n",
              "\n",
              "    .dataframe thead th {\n",
              "        text-align: right;\n",
              "    }\n",
              "</style>\n",
              "<table border=\"1\" class=\"dataframe\">\n",
              "  <thead>\n",
              "    <tr style=\"text-align: right;\">\n",
              "      <th></th>\n",
              "      <th>land</th>\n",
              "      <th>price</th>\n",
              "    </tr>\n",
              "  </thead>\n",
              "  <tbody>\n",
              "    <tr>\n",
              "      <th>count</th>\n",
              "      <td>9.000000</td>\n",
              "      <td>8.000000e+00</td>\n",
              "    </tr>\n",
              "    <tr>\n",
              "      <th>mean</th>\n",
              "      <td>5111.111111</td>\n",
              "      <td>2.681874e+05</td>\n",
              "    </tr>\n",
              "    <tr>\n",
              "      <th>std</th>\n",
              "      <td>2934.469477</td>\n",
              "      <td>7.316554e+05</td>\n",
              "    </tr>\n",
              "    <tr>\n",
              "      <th>min</th>\n",
              "      <td>1000.000000</td>\n",
              "      <td>2.245000e+03</td>\n",
              "    </tr>\n",
              "    <tr>\n",
              "      <th>25%</th>\n",
              "      <td>3000.000000</td>\n",
              "      <td>6.299250e+03</td>\n",
              "    </tr>\n",
              "    <tr>\n",
              "      <th>50%</th>\n",
              "      <td>5000.000000</td>\n",
              "      <td>1.066750e+04</td>\n",
              "    </tr>\n",
              "    <tr>\n",
              "      <th>75%</th>\n",
              "      <td>7000.000000</td>\n",
              "      <td>1.528500e+04</td>\n",
              "    </tr>\n",
              "    <tr>\n",
              "      <th>max</th>\n",
              "      <td>10000.000000</td>\n",
              "      <td>2.078900e+06</td>\n",
              "    </tr>\n",
              "  </tbody>\n",
              "</table>\n",
              "</div>"
            ],
            "text/plain": [
              "               land         price\n",
              "count      9.000000  8.000000e+00\n",
              "mean    5111.111111  2.681874e+05\n",
              "std     2934.469477  7.316554e+05\n",
              "min     1000.000000  2.245000e+03\n",
              "25%     3000.000000  6.299250e+03\n",
              "50%     5000.000000  1.066750e+04\n",
              "75%     7000.000000  1.528500e+04\n",
              "max    10000.000000  2.078900e+06"
            ]
          },
          "execution_count": 7,
          "metadata": {},
          "output_type": "execute_result"
        }
      ],
      "source": [
        "dataset.describe()"
      ]
    },
    {
      "cell_type": "code",
      "execution_count": 8,
      "metadata": {
        "id": "fVsccRkOkyvr"
      },
      "outputs": [
        {
          "data": {
            "text/plain": [
              "2078900.0"
            ]
          },
          "execution_count": 8,
          "metadata": {},
          "output_type": "execute_result"
        }
      ],
      "source": [
        "percentile = dataset.price.quantile(1.0)\n",
        "percentile"
      ]
    },
    {
      "cell_type": "code",
      "execution_count": 9,
      "metadata": {
        "id": "zoyYytImMcla"
      },
      "outputs": [
        {
          "data": {
            "text/html": [
              "<div>\n",
              "<style scoped>\n",
              "    .dataframe tbody tr th:only-of-type {\n",
              "        vertical-align: middle;\n",
              "    }\n",
              "\n",
              "    .dataframe tbody tr th {\n",
              "        vertical-align: top;\n",
              "    }\n",
              "\n",
              "    .dataframe thead th {\n",
              "        text-align: right;\n",
              "    }\n",
              "</style>\n",
              "<table border=\"1\" class=\"dataframe\">\n",
              "  <thead>\n",
              "    <tr style=\"text-align: right;\">\n",
              "      <th></th>\n",
              "      <th>land</th>\n",
              "      <th>price</th>\n",
              "    </tr>\n",
              "  </thead>\n",
              "  <tbody>\n",
              "    <tr>\n",
              "      <th>0</th>\n",
              "      <td>1000</td>\n",
              "      <td>2245.0</td>\n",
              "    </tr>\n",
              "    <tr>\n",
              "      <th>1</th>\n",
              "      <td>2000</td>\n",
              "      <td>4575.0</td>\n",
              "    </tr>\n",
              "    <tr>\n",
              "      <th>2</th>\n",
              "      <td>3000</td>\n",
              "      <td>6874.0</td>\n",
              "    </tr>\n",
              "    <tr>\n",
              "      <th>3</th>\n",
              "      <td>4000</td>\n",
              "      <td>8878.0</td>\n",
              "    </tr>\n",
              "    <tr>\n",
              "      <th>5</th>\n",
              "      <td>6000</td>\n",
              "      <td>12457.0</td>\n",
              "    </tr>\n",
              "    <tr>\n",
              "      <th>6</th>\n",
              "      <td>7000</td>\n",
              "      <td>14785.0</td>\n",
              "    </tr>\n",
              "    <tr>\n",
              "      <th>7</th>\n",
              "      <td>8000</td>\n",
              "      <td>16785.0</td>\n",
              "    </tr>\n",
              "  </tbody>\n",
              "</table>\n",
              "</div>"
            ],
            "text/plain": [
              "   land    price\n",
              "0  1000   2245.0\n",
              "1  2000   4575.0\n",
              "2  3000   6874.0\n",
              "3  4000   8878.0\n",
              "5  6000  12457.0\n",
              "6  7000  14785.0\n",
              "7  8000  16785.0"
            ]
          },
          "execution_count": 9,
          "metadata": {},
          "output_type": "execute_result"
        }
      ],
      "source": [
        "datasetNoOutlier = dataset[dataset.price<percentile]\n",
        "datasetNoOutlier"
      ]
    }
  ],
  "metadata": {
    "colab": {
      "collapsed_sections": [],
      "name": "6_DA_ExploringMeanMedianQuartile.ipynb",
      "provenance": []
    },
    "kernelspec": {
      "display_name": "Python 3",
      "name": "python3"
    },
    "language_info": {
      "codemirror_mode": {
        "name": "ipython",
        "version": 3
      },
      "file_extension": ".py",
      "mimetype": "text/x-python",
      "name": "python",
      "nbconvert_exporter": "python",
      "pygments_lexer": "ipython3",
      "version": "3.11.5"
    }
  },
  "nbformat": 4,
  "nbformat_minor": 0
}
